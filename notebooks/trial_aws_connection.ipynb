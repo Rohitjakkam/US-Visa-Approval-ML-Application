{
 "cells": [
  {
   "cell_type": "code",
   "execution_count": 1,
   "metadata": {},
   "outputs": [],
   "source": [
    "import boto3\n",
    "import os\n",
    "from us_visa_approval.constants import AWS_SECRET_ACCESS_KEY_ENV_KEY, AWS_ACCESS_KEY_ID_ENV_KEY,REGION_NAME"
   ]
  },
  {
   "cell_type": "code",
   "execution_count": 2,
   "metadata": {},
   "outputs": [],
   "source": [
    "class S3Client:\n",
    "\n",
    "    s3_client=None\n",
    "    s3_resource = None\n",
    "    def __init__(self, region_name=REGION_NAME):\n",
    "        \"\"\" \n",
    "        This Class gets aws credentials from env_variable and creates an connection with s3 bucket \n",
    "        and raise exception when environment variable is not set\n",
    "        \"\"\"\n",
    "\n",
    "        if S3Client.s3_resource==None or S3Client.s3_client==None:\n",
    "            __access_key_id = os.getenv('AWS_ACCESS_KEY_ID')\n",
    "            __secret_access_key = os.getenv('AWS_SECRET_ACCESS_KEY')\n",
    "            if __access_key_id is None:\n",
    "                raise Exception(f\"Environment variable: {AWS_ACCESS_KEY_ID_ENV_KEY} is not not set.\")\n",
    "            if __secret_access_key is None:\n",
    "                raise Exception(f\"Environment variable: {AWS_SECRET_ACCESS_KEY_ENV_KEY} is not set.\")\n",
    "        \n",
    "            S3Client.s3_resource = boto3.resource('s3',\n",
    "                                            aws_access_key_id=__access_key_id,\n",
    "                                            aws_secret_access_key=__secret_access_key,\n",
    "                                            region_name=region_name\n",
    "                                            )\n",
    "            S3Client.s3_client = boto3.client('s3',\n",
    "                                        aws_access_key_id=__access_key_id,\n",
    "                                        aws_secret_access_key=__secret_access_key,\n",
    "                                        region_name=region_name\n",
    "                                        )\n",
    "        self.s3_resource = S3Client.s3_resource\n",
    "        self.s3_client = S3Client.s3_client\n",
    "        "
   ]
  },
  {
   "cell_type": "code",
   "execution_count": 5,
   "metadata": {},
   "outputs": [
    {
     "ename": "Exception",
     "evalue": "Environment variable: AWS_ACCESS_KEY_ID is not not set.",
     "output_type": "error",
     "traceback": [
      "\u001b[1;31m---------------------------------------------------------------------------\u001b[0m",
      "\u001b[1;31mException\u001b[0m                                 Traceback (most recent call last)",
      "Cell \u001b[1;32mIn[5], line 1\u001b[0m\n\u001b[1;32m----> 1\u001b[0m s3_client \u001b[38;5;241m=\u001b[39m \u001b[43mS3Client\u001b[49m\u001b[43m(\u001b[49m\u001b[43m)\u001b[49m\n",
      "Cell \u001b[1;32mIn[2], line 15\u001b[0m, in \u001b[0;36mS3Client.__init__\u001b[1;34m(self, region_name)\u001b[0m\n\u001b[0;32m     13\u001b[0m __secret_access_key \u001b[38;5;241m=\u001b[39m os\u001b[38;5;241m.\u001b[39mgetenv(\u001b[38;5;124m'\u001b[39m\u001b[38;5;124mAWS_SECRET_ACCESS_KEY\u001b[39m\u001b[38;5;124m'\u001b[39m)\n\u001b[0;32m     14\u001b[0m \u001b[38;5;28;01mif\u001b[39;00m __access_key_id \u001b[38;5;129;01mis\u001b[39;00m \u001b[38;5;28;01mNone\u001b[39;00m:\n\u001b[1;32m---> 15\u001b[0m     \u001b[38;5;28;01mraise\u001b[39;00m \u001b[38;5;167;01mException\u001b[39;00m(\u001b[38;5;124mf\u001b[39m\u001b[38;5;124m\"\u001b[39m\u001b[38;5;124mEnvironment variable: \u001b[39m\u001b[38;5;132;01m{\u001b[39;00mAWS_ACCESS_KEY_ID_ENV_KEY\u001b[38;5;132;01m}\u001b[39;00m\u001b[38;5;124m is not not set.\u001b[39m\u001b[38;5;124m\"\u001b[39m)\n\u001b[0;32m     16\u001b[0m \u001b[38;5;28;01mif\u001b[39;00m __secret_access_key \u001b[38;5;129;01mis\u001b[39;00m \u001b[38;5;28;01mNone\u001b[39;00m:\n\u001b[0;32m     17\u001b[0m     \u001b[38;5;28;01mraise\u001b[39;00m \u001b[38;5;167;01mException\u001b[39;00m(\u001b[38;5;124mf\u001b[39m\u001b[38;5;124m\"\u001b[39m\u001b[38;5;124mEnvironment variable: \u001b[39m\u001b[38;5;132;01m{\u001b[39;00mAWS_SECRET_ACCESS_KEY_ENV_KEY\u001b[38;5;132;01m}\u001b[39;00m\u001b[38;5;124m is not set.\u001b[39m\u001b[38;5;124m\"\u001b[39m)\n",
      "\u001b[1;31mException\u001b[0m: Environment variable: AWS_ACCESS_KEY_ID is not not set."
     ]
    }
   ],
   "source": [
    "s3_client = S3Client()"
   ]
  },
  {
   "cell_type": "code",
   "execution_count": 4,
   "metadata": {},
   "outputs": [
    {
     "ename": "NameError",
     "evalue": "name 's3_client' is not defined",
     "output_type": "error",
     "traceback": [
      "\u001b[1;31m---------------------------------------------------------------------------\u001b[0m",
      "\u001b[1;31mNameError\u001b[0m                                 Traceback (most recent call last)",
      "Cell \u001b[1;32mIn[4], line 1\u001b[0m\n\u001b[1;32m----> 1\u001b[0m s3_resource \u001b[38;5;241m=\u001b[39m \u001b[43ms3_client\u001b[49m\u001b[38;5;241m.\u001b[39ms3_resource\n\u001b[0;32m      2\u001b[0m s3_client \u001b[38;5;241m=\u001b[39m s3_client\u001b[38;5;241m.\u001b[39ms3_client\n",
      "\u001b[1;31mNameError\u001b[0m: name 's3_client' is not defined"
     ]
    }
   ],
   "source": [
    "\n",
    "s3_resource = s3_client.s3_resource\n",
    "s3_client = s3_client.s3_client"
   ]
  },
  {
   "cell_type": "code",
   "execution_count": null,
   "metadata": {},
   "outputs": [],
   "source": []
  },
  {
   "cell_type": "code",
   "execution_count": null,
   "metadata": {},
   "outputs": [],
   "source": []
  },
  {
   "cell_type": "code",
   "execution_count": null,
   "metadata": {},
   "outputs": [],
   "source": []
  },
  {
   "cell_type": "code",
   "execution_count": null,
   "metadata": {},
   "outputs": [],
   "source": []
  },
  {
   "cell_type": "code",
   "execution_count": null,
   "metadata": {},
   "outputs": [],
   "source": []
  }
 ],
 "metadata": {
  "kernelspec": {
   "display_name": "visa",
   "language": "python",
   "name": "python3"
  },
  "language_info": {
   "codemirror_mode": {
    "name": "ipython",
    "version": 3
   },
   "file_extension": ".py",
   "mimetype": "text/x-python",
   "name": "python",
   "nbconvert_exporter": "python",
   "pygments_lexer": "ipython3",
   "version": "3.8.19"
  }
 },
 "nbformat": 4,
 "nbformat_minor": 2
}
