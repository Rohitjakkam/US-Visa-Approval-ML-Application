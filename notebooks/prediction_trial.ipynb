{
 "cells": [
  {
   "cell_type": "code",
   "execution_count": 7,
   "metadata": {},
   "outputs": [],
   "source": [
    "from us_visa_approval.pipline.prediction_pipeline import USvisaData, USvisaClassifier\n",
    "import pandas as pd\n",
    "import numpy as np"
   ]
  },
  {
   "cell_type": "code",
   "execution_count": 8,
   "metadata": {},
   "outputs": [],
   "source": [
    "d={\n",
    " 'continent': 'Asia',\n",
    " 'education_of_employee': 'Doctorate',\n",
    " 'has_job_experience': 'N',\n",
    " 'requires_job_training': 'N',\n",
    " 'no_of_employees': 843,\n",
    " 'company_age': 28,\n",
    " 'region_of_employment': 'Midwest',\n",
    " 'prevailing_wage': 79948.12,\n",
    " 'unit_of_wage': 'Year',\n",
    " 'full_time_position': 'Y'}\n",
    "df= pd.DataFrame(d,index=[0])"
   ]
  },
  {
   "cell_type": "code",
   "execution_count": 9,
   "metadata": {},
   "outputs": [
    {
     "data": {
      "text/html": [
       "<div>\n",
       "<style scoped>\n",
       "    .dataframe tbody tr th:only-of-type {\n",
       "        vertical-align: middle;\n",
       "    }\n",
       "\n",
       "    .dataframe tbody tr th {\n",
       "        vertical-align: top;\n",
       "    }\n",
       "\n",
       "    .dataframe thead th {\n",
       "        text-align: right;\n",
       "    }\n",
       "</style>\n",
       "<table border=\"1\" class=\"dataframe\">\n",
       "  <thead>\n",
       "    <tr style=\"text-align: right;\">\n",
       "      <th></th>\n",
       "      <th>continent</th>\n",
       "      <th>education_of_employee</th>\n",
       "      <th>has_job_experience</th>\n",
       "      <th>requires_job_training</th>\n",
       "      <th>no_of_employees</th>\n",
       "      <th>company_age</th>\n",
       "      <th>region_of_employment</th>\n",
       "      <th>prevailing_wage</th>\n",
       "      <th>unit_of_wage</th>\n",
       "      <th>full_time_position</th>\n",
       "    </tr>\n",
       "  </thead>\n",
       "  <tbody>\n",
       "    <tr>\n",
       "      <th>0</th>\n",
       "      <td>Asia</td>\n",
       "      <td>Doctorate</td>\n",
       "      <td>N</td>\n",
       "      <td>N</td>\n",
       "      <td>843</td>\n",
       "      <td>28</td>\n",
       "      <td>Midwest</td>\n",
       "      <td>79948.12</td>\n",
       "      <td>Year</td>\n",
       "      <td>Y</td>\n",
       "    </tr>\n",
       "  </tbody>\n",
       "</table>\n",
       "</div>"
      ],
      "text/plain": [
       "  continent education_of_employee has_job_experience requires_job_training  \\\n",
       "0      Asia             Doctorate                  N                     N   \n",
       "\n",
       "   no_of_employees  company_age region_of_employment  prevailing_wage  \\\n",
       "0              843           28              Midwest         79948.12   \n",
       "\n",
       "  unit_of_wage full_time_position  \n",
       "0         Year                  Y  "
      ]
     },
     "execution_count": 9,
     "metadata": {},
     "output_type": "execute_result"
    }
   ],
   "source": [
    "df"
   ]
  },
  {
   "cell_type": "code",
   "execution_count": 10,
   "metadata": {},
   "outputs": [],
   "source": [
    "usvisa_df = df\n",
    "\n",
    "model_predictor = USvisaClassifier()\n"
   ]
  },
  {
   "cell_type": "code",
   "execution_count": 11,
   "metadata": {},
   "outputs": [
    {
     "ename": "USvisaException",
     "evalue": "Error occurred python script name [d:\\us-visa-approval-ml-application\\us_visa_approval\\pipline\\prediction_pipeline.py] line number [111] error message [Error occurred python script name [d:\\us-visa-approval-ml-application\\us_visa_approval\\entity\\s3_estimator.py] line number [63] error message [Error occurred python script name [d:\\us-visa-approval-ml-application\\us_visa_approval\\cloud_storage\\aws_storage.py] line number [158] error message [Error occurred python script name [d:\\us-visa-approval-ml-application\\us_visa_approval\\cloud_storage\\aws_storage.py] line number [126] error message [An error occurred (SignatureDoesNotMatch) when calling the ListObjects operation: The request signature we calculated does not match the signature you provided. Check your key and signing method.]]]]",
     "output_type": "error",
     "traceback": [
      "\u001b[1;31m---------------------------------------------------------------------------\u001b[0m",
      "\u001b[1;31mClientError\u001b[0m                               Traceback (most recent call last)",
      "File \u001b[1;32md:\\us-visa-approval-ml-application\\us_visa_approval\\cloud_storage\\aws_storage.py:126\u001b[0m, in \u001b[0;36mSimpleStorageService.get_file_object\u001b[1;34m(self, filename, bucket_name)\u001b[0m\n\u001b[0;32m    124\u001b[0m bucket \u001b[38;5;241m=\u001b[39m \u001b[38;5;28mself\u001b[39m\u001b[38;5;241m.\u001b[39mget_bucket(bucket_name)\n\u001b[1;32m--> 126\u001b[0m file_objects \u001b[38;5;241m=\u001b[39m [file_object \u001b[38;5;28;01mfor\u001b[39;00m file_object \u001b[38;5;129;01min\u001b[39;00m bucket\u001b[38;5;241m.\u001b[39mobjects\u001b[38;5;241m.\u001b[39mfilter(Prefix\u001b[38;5;241m=\u001b[39mfilename)]\n\u001b[0;32m    128\u001b[0m func \u001b[38;5;241m=\u001b[39m \u001b[38;5;28;01mlambda\u001b[39;00m x: x[\u001b[38;5;241m0\u001b[39m] \u001b[38;5;28;01mif\u001b[39;00m \u001b[38;5;28mlen\u001b[39m(x) \u001b[38;5;241m==\u001b[39m \u001b[38;5;241m1\u001b[39m \u001b[38;5;28;01melse\u001b[39;00m x\n",
      "File \u001b[1;32md:\\us-visa-approval-ml-application\\us_visa_approval\\cloud_storage\\aws_storage.py:126\u001b[0m, in \u001b[0;36m<listcomp>\u001b[1;34m(.0)\u001b[0m\n\u001b[0;32m    124\u001b[0m bucket \u001b[38;5;241m=\u001b[39m \u001b[38;5;28mself\u001b[39m\u001b[38;5;241m.\u001b[39mget_bucket(bucket_name)\n\u001b[1;32m--> 126\u001b[0m file_objects \u001b[38;5;241m=\u001b[39m [file_object \u001b[38;5;28;01mfor\u001b[39;00m file_object \u001b[38;5;129;01min\u001b[39;00m bucket\u001b[38;5;241m.\u001b[39mobjects\u001b[38;5;241m.\u001b[39mfilter(Prefix\u001b[38;5;241m=\u001b[39mfilename)]\n\u001b[0;32m    128\u001b[0m func \u001b[38;5;241m=\u001b[39m \u001b[38;5;28;01mlambda\u001b[39;00m x: x[\u001b[38;5;241m0\u001b[39m] \u001b[38;5;28;01mif\u001b[39;00m \u001b[38;5;28mlen\u001b[39m(x) \u001b[38;5;241m==\u001b[39m \u001b[38;5;241m1\u001b[39m \u001b[38;5;28;01melse\u001b[39;00m x\n",
      "File \u001b[1;32mc:\\Users\\HOME\\anaconda3\\envs\\visa\\lib\\site-packages\\boto3\\resources\\collection.py:79\u001b[0m, in \u001b[0;36mResourceCollection.__iter__\u001b[1;34m(self)\u001b[0m\n\u001b[0;32m     78\u001b[0m count \u001b[38;5;241m=\u001b[39m \u001b[38;5;241m0\u001b[39m\n\u001b[1;32m---> 79\u001b[0m \u001b[38;5;28;01mfor\u001b[39;00m page \u001b[38;5;129;01min\u001b[39;00m \u001b[38;5;28mself\u001b[39m\u001b[38;5;241m.\u001b[39mpages():\n\u001b[0;32m     80\u001b[0m     \u001b[38;5;28;01mfor\u001b[39;00m item \u001b[38;5;129;01min\u001b[39;00m page:\n",
      "File \u001b[1;32mc:\\Users\\HOME\\anaconda3\\envs\\visa\\lib\\site-packages\\boto3\\resources\\collection.py:169\u001b[0m, in \u001b[0;36mResourceCollection.pages\u001b[1;34m(self)\u001b[0m\n\u001b[0;32m    168\u001b[0m count \u001b[38;5;241m=\u001b[39m \u001b[38;5;241m0\u001b[39m\n\u001b[1;32m--> 169\u001b[0m \u001b[38;5;28;01mfor\u001b[39;00m page \u001b[38;5;129;01min\u001b[39;00m pages:\n\u001b[0;32m    170\u001b[0m     page_items \u001b[38;5;241m=\u001b[39m []\n",
      "File \u001b[1;32mc:\\Users\\HOME\\anaconda3\\envs\\visa\\lib\\site-packages\\botocore\\paginate.py:269\u001b[0m, in \u001b[0;36mPageIterator.__iter__\u001b[1;34m(self)\u001b[0m\n\u001b[0;32m    268\u001b[0m \u001b[38;5;28;01mwhile\u001b[39;00m \u001b[38;5;28;01mTrue\u001b[39;00m:\n\u001b[1;32m--> 269\u001b[0m     response \u001b[38;5;241m=\u001b[39m \u001b[38;5;28;43mself\u001b[39;49m\u001b[38;5;241;43m.\u001b[39;49m\u001b[43m_make_request\u001b[49m\u001b[43m(\u001b[49m\u001b[43mcurrent_kwargs\u001b[49m\u001b[43m)\u001b[49m\n\u001b[0;32m    270\u001b[0m     parsed \u001b[38;5;241m=\u001b[39m \u001b[38;5;28mself\u001b[39m\u001b[38;5;241m.\u001b[39m_extract_parsed_response(response)\n",
      "File \u001b[1;32mc:\\Users\\HOME\\anaconda3\\envs\\visa\\lib\\site-packages\\botocore\\paginate.py:357\u001b[0m, in \u001b[0;36mPageIterator._make_request\u001b[1;34m(self, current_kwargs)\u001b[0m\n\u001b[0;32m    356\u001b[0m \u001b[38;5;28;01mdef\u001b[39;00m \u001b[38;5;21m_make_request\u001b[39m(\u001b[38;5;28mself\u001b[39m, current_kwargs):\n\u001b[1;32m--> 357\u001b[0m     \u001b[38;5;28;01mreturn\u001b[39;00m \u001b[38;5;28;43mself\u001b[39;49m\u001b[38;5;241;43m.\u001b[39;49m\u001b[43m_method\u001b[49m\u001b[43m(\u001b[49m\u001b[38;5;241;43m*\u001b[39;49m\u001b[38;5;241;43m*\u001b[39;49m\u001b[43mcurrent_kwargs\u001b[49m\u001b[43m)\u001b[49m\n",
      "File \u001b[1;32mc:\\Users\\HOME\\anaconda3\\envs\\visa\\lib\\site-packages\\botocore\\client.py:565\u001b[0m, in \u001b[0;36mClientCreator._create_api_method.<locals>._api_call\u001b[1;34m(self, *args, **kwargs)\u001b[0m\n\u001b[0;32m    564\u001b[0m \u001b[38;5;66;03m# The \"self\" in this scope is referring to the BaseClient.\u001b[39;00m\n\u001b[1;32m--> 565\u001b[0m \u001b[38;5;28;01mreturn\u001b[39;00m \u001b[38;5;28;43mself\u001b[39;49m\u001b[38;5;241;43m.\u001b[39;49m\u001b[43m_make_api_call\u001b[49m\u001b[43m(\u001b[49m\u001b[43moperation_name\u001b[49m\u001b[43m,\u001b[49m\u001b[43m \u001b[49m\u001b[43mkwargs\u001b[49m\u001b[43m)\u001b[49m\n",
      "File \u001b[1;32mc:\\Users\\HOME\\anaconda3\\envs\\visa\\lib\\site-packages\\botocore\\client.py:1021\u001b[0m, in \u001b[0;36mBaseClient._make_api_call\u001b[1;34m(self, operation_name, api_params)\u001b[0m\n\u001b[0;32m   1020\u001b[0m     error_class \u001b[38;5;241m=\u001b[39m \u001b[38;5;28mself\u001b[39m\u001b[38;5;241m.\u001b[39mexceptions\u001b[38;5;241m.\u001b[39mfrom_code(error_code)\n\u001b[1;32m-> 1021\u001b[0m     \u001b[38;5;28;01mraise\u001b[39;00m error_class(parsed_response, operation_name)\n\u001b[0;32m   1022\u001b[0m \u001b[38;5;28;01melse\u001b[39;00m:\n",
      "\u001b[1;31mClientError\u001b[0m: An error occurred (SignatureDoesNotMatch) when calling the ListObjects operation: The request signature we calculated does not match the signature you provided. Check your key and signing method.",
      "\nThe above exception was the direct cause of the following exception:\n",
      "\u001b[1;31mUSvisaException\u001b[0m                           Traceback (most recent call last)",
      "File \u001b[1;32md:\\us-visa-approval-ml-application\\us_visa_approval\\cloud_storage\\aws_storage.py:158\u001b[0m, in \u001b[0;36mSimpleStorageService.load_model\u001b[1;34m(self, model_name, bucket_name, model_dir)\u001b[0m\n\u001b[0;32m    157\u001b[0m model_file \u001b[38;5;241m=\u001b[39m func()\n\u001b[1;32m--> 158\u001b[0m file_object \u001b[38;5;241m=\u001b[39m \u001b[38;5;28;43mself\u001b[39;49m\u001b[38;5;241;43m.\u001b[39;49m\u001b[43mget_file_object\u001b[49m\u001b[43m(\u001b[49m\u001b[43mmodel_file\u001b[49m\u001b[43m,\u001b[49m\u001b[43m \u001b[49m\u001b[43mbucket_name\u001b[49m\u001b[43m)\u001b[49m\n\u001b[0;32m    159\u001b[0m model_obj \u001b[38;5;241m=\u001b[39m \u001b[38;5;28mself\u001b[39m\u001b[38;5;241m.\u001b[39mread_object(file_object, decode\u001b[38;5;241m=\u001b[39m\u001b[38;5;28;01mFalse\u001b[39;00m)\n",
      "File \u001b[1;32md:\\us-visa-approval-ml-application\\us_visa_approval\\cloud_storage\\aws_storage.py:136\u001b[0m, in \u001b[0;36mSimpleStorageService.get_file_object\u001b[1;34m(self, filename, bucket_name)\u001b[0m\n\u001b[0;32m    135\u001b[0m \u001b[38;5;28;01mexcept\u001b[39;00m \u001b[38;5;167;01mException\u001b[39;00m \u001b[38;5;28;01mas\u001b[39;00m e:\n\u001b[1;32m--> 136\u001b[0m     \u001b[38;5;28;01mraise\u001b[39;00m USvisaException(e, sys) \u001b[38;5;28;01mfrom\u001b[39;00m \u001b[38;5;21;01me\u001b[39;00m\n",
      "\u001b[1;31mUSvisaException\u001b[0m: Error occurred python script name [d:\\us-visa-approval-ml-application\\us_visa_approval\\cloud_storage\\aws_storage.py] line number [126] error message [An error occurred (SignatureDoesNotMatch) when calling the ListObjects operation: The request signature we calculated does not match the signature you provided. Check your key and signing method.]",
      "\nThe above exception was the direct cause of the following exception:\n",
      "\u001b[1;31mUSvisaException\u001b[0m                           Traceback (most recent call last)",
      "File \u001b[1;32md:\\us-visa-approval-ml-application\\us_visa_approval\\entity\\s3_estimator.py:63\u001b[0m, in \u001b[0;36mUSvisaEstimator.predict\u001b[1;34m(self, dataframe)\u001b[0m\n\u001b[0;32m     62\u001b[0m \u001b[38;5;28;01mif\u001b[39;00m \u001b[38;5;28mself\u001b[39m\u001b[38;5;241m.\u001b[39mloaded_model \u001b[38;5;129;01mis\u001b[39;00m \u001b[38;5;28;01mNone\u001b[39;00m:\n\u001b[1;32m---> 63\u001b[0m     \u001b[38;5;28mself\u001b[39m\u001b[38;5;241m.\u001b[39mloaded_model \u001b[38;5;241m=\u001b[39m \u001b[38;5;28;43mself\u001b[39;49m\u001b[38;5;241;43m.\u001b[39;49m\u001b[43mload_model\u001b[49m\u001b[43m(\u001b[49m\u001b[43m)\u001b[49m\n\u001b[0;32m     64\u001b[0m \u001b[38;5;28;01mreturn\u001b[39;00m \u001b[38;5;28mself\u001b[39m\u001b[38;5;241m.\u001b[39mloaded_model\u001b[38;5;241m.\u001b[39mpredict(dataframe\u001b[38;5;241m=\u001b[39mdataframe)\n",
      "File \u001b[1;32md:\\us-visa-approval-ml-application\\us_visa_approval\\entity\\s3_estimator.py:37\u001b[0m, in \u001b[0;36mUSvisaEstimator.load_model\u001b[1;34m(self)\u001b[0m\n\u001b[0;32m     32\u001b[0m \u001b[38;5;250m\u001b[39m\u001b[38;5;124;03m\"\"\"\u001b[39;00m\n\u001b[0;32m     33\u001b[0m \u001b[38;5;124;03mLoad the model from the model_path\u001b[39;00m\n\u001b[0;32m     34\u001b[0m \u001b[38;5;124;03m:return:\u001b[39;00m\n\u001b[0;32m     35\u001b[0m \u001b[38;5;124;03m\"\"\"\u001b[39;00m\n\u001b[1;32m---> 37\u001b[0m \u001b[38;5;28;01mreturn\u001b[39;00m \u001b[38;5;28;43mself\u001b[39;49m\u001b[38;5;241;43m.\u001b[39;49m\u001b[43ms3\u001b[49m\u001b[38;5;241;43m.\u001b[39;49m\u001b[43mload_model\u001b[49m\u001b[43m(\u001b[49m\u001b[38;5;28;43mself\u001b[39;49m\u001b[38;5;241;43m.\u001b[39;49m\u001b[43mmodel_path\u001b[49m\u001b[43m,\u001b[49m\u001b[43mbucket_name\u001b[49m\u001b[38;5;241;43m=\u001b[39;49m\u001b[38;5;28;43mself\u001b[39;49m\u001b[38;5;241;43m.\u001b[39;49m\u001b[43mbucket_name\u001b[49m\u001b[43m)\u001b[49m\n",
      "File \u001b[1;32md:\\us-visa-approval-ml-application\\us_visa_approval\\cloud_storage\\aws_storage.py:165\u001b[0m, in \u001b[0;36mSimpleStorageService.load_model\u001b[1;34m(self, model_name, bucket_name, model_dir)\u001b[0m\n\u001b[0;32m    164\u001b[0m \u001b[38;5;28;01mexcept\u001b[39;00m \u001b[38;5;167;01mException\u001b[39;00m \u001b[38;5;28;01mas\u001b[39;00m e:\n\u001b[1;32m--> 165\u001b[0m     \u001b[38;5;28;01mraise\u001b[39;00m USvisaException(e, sys) \u001b[38;5;28;01mfrom\u001b[39;00m \u001b[38;5;21;01me\u001b[39;00m\n",
      "\u001b[1;31mUSvisaException\u001b[0m: Error occurred python script name [d:\\us-visa-approval-ml-application\\us_visa_approval\\cloud_storage\\aws_storage.py] line number [158] error message [Error occurred python script name [d:\\us-visa-approval-ml-application\\us_visa_approval\\cloud_storage\\aws_storage.py] line number [126] error message [An error occurred (SignatureDoesNotMatch) when calling the ListObjects operation: The request signature we calculated does not match the signature you provided. Check your key and signing method.]]",
      "\nDuring handling of the above exception, another exception occurred:\n",
      "\u001b[1;31mUSvisaException\u001b[0m                           Traceback (most recent call last)",
      "File \u001b[1;32md:\\us-visa-approval-ml-application\\us_visa_approval\\pipline\\prediction_pipeline.py:111\u001b[0m, in \u001b[0;36mUSvisaClassifier.predict\u001b[1;34m(self, dataframe)\u001b[0m\n\u001b[0;32m    107\u001b[0m model \u001b[38;5;241m=\u001b[39m USvisaEstimator(\n\u001b[0;32m    108\u001b[0m     bucket_name\u001b[38;5;241m=\u001b[39m\u001b[38;5;28mself\u001b[39m\u001b[38;5;241m.\u001b[39mprediction_pipeline_config\u001b[38;5;241m.\u001b[39mmodel_bucket_name,\n\u001b[0;32m    109\u001b[0m     model_path\u001b[38;5;241m=\u001b[39m\u001b[38;5;28mself\u001b[39m\u001b[38;5;241m.\u001b[39mprediction_pipeline_config\u001b[38;5;241m.\u001b[39mmodel_file_path,\n\u001b[0;32m    110\u001b[0m )\n\u001b[1;32m--> 111\u001b[0m result \u001b[38;5;241m=\u001b[39m  \u001b[43mmodel\u001b[49m\u001b[38;5;241;43m.\u001b[39;49m\u001b[43mpredict\u001b[49m\u001b[43m(\u001b[49m\u001b[43mdataframe\u001b[49m\u001b[43m)\u001b[49m\n\u001b[0;32m    113\u001b[0m \u001b[38;5;28;01mreturn\u001b[39;00m result\n",
      "File \u001b[1;32md:\\us-visa-approval-ml-application\\us_visa_approval\\entity\\s3_estimator.py:66\u001b[0m, in \u001b[0;36mUSvisaEstimator.predict\u001b[1;34m(self, dataframe)\u001b[0m\n\u001b[0;32m     65\u001b[0m \u001b[38;5;28;01mexcept\u001b[39;00m \u001b[38;5;167;01mException\u001b[39;00m \u001b[38;5;28;01mas\u001b[39;00m e:\n\u001b[1;32m---> 66\u001b[0m     \u001b[38;5;28;01mraise\u001b[39;00m USvisaException(e, sys)\n",
      "\u001b[1;31mUSvisaException\u001b[0m: Error occurred python script name [d:\\us-visa-approval-ml-application\\us_visa_approval\\entity\\s3_estimator.py] line number [63] error message [Error occurred python script name [d:\\us-visa-approval-ml-application\\us_visa_approval\\cloud_storage\\aws_storage.py] line number [158] error message [Error occurred python script name [d:\\us-visa-approval-ml-application\\us_visa_approval\\cloud_storage\\aws_storage.py] line number [126] error message [An error occurred (SignatureDoesNotMatch) when calling the ListObjects operation: The request signature we calculated does not match the signature you provided. Check your key and signing method.]]]",
      "\nDuring handling of the above exception, another exception occurred:\n",
      "\u001b[1;31mUSvisaException\u001b[0m                           Traceback (most recent call last)",
      "Cell \u001b[1;32mIn[11], line 1\u001b[0m\n\u001b[1;32m----> 1\u001b[0m value \u001b[38;5;241m=\u001b[39m \u001b[43mmodel_predictor\u001b[49m\u001b[38;5;241;43m.\u001b[39;49m\u001b[43mpredict\u001b[49m\u001b[43m(\u001b[49m\u001b[43mdataframe\u001b[49m\u001b[38;5;241;43m=\u001b[39;49m\u001b[43musvisa_df\u001b[49m\u001b[43m)\u001b[49m[\u001b[38;5;241m0\u001b[39m]\n\u001b[0;32m      3\u001b[0m status \u001b[38;5;241m=\u001b[39m \u001b[38;5;28;01mNone\u001b[39;00m\n\u001b[0;32m      4\u001b[0m \u001b[38;5;28;01mif\u001b[39;00m value \u001b[38;5;241m==\u001b[39m \u001b[38;5;241m1\u001b[39m:\n",
      "File \u001b[1;32md:\\us-visa-approval-ml-application\\us_visa_approval\\pipline\\prediction_pipeline.py:116\u001b[0m, in \u001b[0;36mUSvisaClassifier.predict\u001b[1;34m(self, dataframe)\u001b[0m\n\u001b[0;32m    113\u001b[0m     \u001b[38;5;28;01mreturn\u001b[39;00m result\n\u001b[0;32m    115\u001b[0m \u001b[38;5;28;01mexcept\u001b[39;00m \u001b[38;5;167;01mException\u001b[39;00m \u001b[38;5;28;01mas\u001b[39;00m e:\n\u001b[1;32m--> 116\u001b[0m     \u001b[38;5;28;01mraise\u001b[39;00m USvisaException(e, sys)\n",
      "\u001b[1;31mUSvisaException\u001b[0m: Error occurred python script name [d:\\us-visa-approval-ml-application\\us_visa_approval\\pipline\\prediction_pipeline.py] line number [111] error message [Error occurred python script name [d:\\us-visa-approval-ml-application\\us_visa_approval\\entity\\s3_estimator.py] line number [63] error message [Error occurred python script name [d:\\us-visa-approval-ml-application\\us_visa_approval\\cloud_storage\\aws_storage.py] line number [158] error message [Error occurred python script name [d:\\us-visa-approval-ml-application\\us_visa_approval\\cloud_storage\\aws_storage.py] line number [126] error message [An error occurred (SignatureDoesNotMatch) when calling the ListObjects operation: The request signature we calculated does not match the signature you provided. Check your key and signing method.]]]]"
     ]
    }
   ],
   "source": [
    "value = model_predictor.predict(dataframe=usvisa_df)[0]\n",
    "\n",
    "status = None\n",
    "if value == 1:\n",
    "    status = \"Visa-approved\"\n",
    "else:\n",
    "    status = \"Visa Not-Approved\"\n",
    "print(status)"
   ]
  },
  {
   "cell_type": "code",
   "execution_count": null,
   "metadata": {},
   "outputs": [],
   "source": []
  },
  {
   "cell_type": "code",
   "execution_count": null,
   "metadata": {},
   "outputs": [],
   "source": []
  },
  {
   "cell_type": "code",
   "execution_count": null,
   "metadata": {},
   "outputs": [],
   "source": []
  },
  {
   "cell_type": "code",
   "execution_count": null,
   "metadata": {},
   "outputs": [],
   "source": []
  },
  {
   "cell_type": "code",
   "execution_count": null,
   "metadata": {},
   "outputs": [],
   "source": []
  }
 ],
 "metadata": {
  "kernelspec": {
   "display_name": "visa",
   "language": "python",
   "name": "python3"
  },
  "language_info": {
   "codemirror_mode": {
    "name": "ipython",
    "version": 3
   },
   "file_extension": ".py",
   "mimetype": "text/x-python",
   "name": "python",
   "nbconvert_exporter": "python",
   "pygments_lexer": "ipython3",
   "version": "3.8.19"
  }
 },
 "nbformat": 4,
 "nbformat_minor": 2
}
